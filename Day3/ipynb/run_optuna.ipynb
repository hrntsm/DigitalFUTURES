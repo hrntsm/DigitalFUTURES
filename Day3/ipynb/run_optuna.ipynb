{
 "cells": [
  {
   "cell_type": "code",
   "execution_count": 16,
   "metadata": {},
   "outputs": [
    {
     "name": "stdout",
     "output_type": "stream",
     "text": [
      "Requirement already satisfied: optuna in c:\\users\\hiroa\\desktop\\digitalfutures\\venv\\lib\\site-packages (2.10.1)\n",
      "Requirement already satisfied: plotly in c:\\users\\hiroa\\desktop\\digitalfutures\\venv\\lib\\site-packages (5.8.2)\n",
      "Requirement already satisfied: nbformat in c:\\users\\hiroa\\desktop\\digitalfutures\\venv\\lib\\site-packages (5.4.0)\n",
      "Requirement already satisfied: cmaes>=0.8.2 in c:\\users\\hiroa\\desktop\\digitalfutures\\venv\\lib\\site-packages (from optuna) (0.8.2)\n",
      "Requirement already satisfied: packaging>=20.0 in c:\\users\\hiroa\\desktop\\digitalfutures\\venv\\lib\\site-packages (from optuna) (21.3)\n",
      "Requirement already satisfied: sqlalchemy>=1.1.0 in c:\\users\\hiroa\\desktop\\digitalfutures\\venv\\lib\\site-packages (from optuna) (1.4.37)\n",
      "Requirement already satisfied: scipy!=1.4.0 in c:\\users\\hiroa\\desktop\\digitalfutures\\venv\\lib\\site-packages (from optuna) (1.8.1)\n",
      "Requirement already satisfied: colorlog in c:\\users\\hiroa\\desktop\\digitalfutures\\venv\\lib\\site-packages (from optuna) (6.6.0)\n",
      "Requirement already satisfied: PyYAML in c:\\users\\hiroa\\desktop\\digitalfutures\\venv\\lib\\site-packages (from optuna) (6.0)\n",
      "Requirement already satisfied: tqdm in c:\\users\\hiroa\\desktop\\digitalfutures\\venv\\lib\\site-packages (from optuna) (4.64.0)\n",
      "Requirement already satisfied: alembic in c:\\users\\hiroa\\desktop\\digitalfutures\\venv\\lib\\site-packages (from optuna) (1.8.0)\n",
      "Requirement already satisfied: numpy in c:\\users\\hiroa\\desktop\\digitalfutures\\venv\\lib\\site-packages (from optuna) (1.22.4)\n",
      "Requirement already satisfied: cliff in c:\\users\\hiroa\\desktop\\digitalfutures\\venv\\lib\\site-packages (from optuna) (3.10.1)\n",
      "Requirement already satisfied: tenacity>=6.2.0 in c:\\users\\hiroa\\desktop\\digitalfutures\\venv\\lib\\site-packages (from plotly) (8.0.1)\n",
      "Requirement already satisfied: jsonschema>=2.6 in c:\\users\\hiroa\\desktop\\digitalfutures\\venv\\lib\\site-packages (from nbformat) (4.6.0)\n",
      "Requirement already satisfied: jupyter-core in c:\\users\\hiroa\\desktop\\digitalfutures\\venv\\lib\\site-packages (from nbformat) (4.10.0)\n",
      "Requirement already satisfied: traitlets>=5.1 in c:\\users\\hiroa\\desktop\\digitalfutures\\venv\\lib\\site-packages (from nbformat) (5.2.2.post1)\n",
      "Requirement already satisfied: fastjsonschema in c:\\users\\hiroa\\desktop\\digitalfutures\\venv\\lib\\site-packages (from nbformat) (2.15.3)\n",
      "Requirement already satisfied: pyrsistent!=0.17.0,!=0.17.1,!=0.17.2,>=0.14.0 in c:\\users\\hiroa\\desktop\\digitalfutures\\venv\\lib\\site-packages (from jsonschema>=2.6->nbformat) (0.18.1)\n",
      "Requirement already satisfied: attrs>=17.4.0 in c:\\users\\hiroa\\desktop\\digitalfutures\\venv\\lib\\site-packages (from jsonschema>=2.6->nbformat) (21.4.0)\n",
      "Requirement already satisfied: pyparsing!=3.0.5,>=2.0.2 in c:\\users\\hiroa\\desktop\\digitalfutures\\venv\\lib\\site-packages (from packaging>=20.0->optuna) (3.0.9)\n",
      "Requirement already satisfied: greenlet!=0.4.17 in c:\\users\\hiroa\\desktop\\digitalfutures\\venv\\lib\\site-packages (from sqlalchemy>=1.1.0->optuna) (1.1.2)\n",
      "Requirement already satisfied: Mako in c:\\users\\hiroa\\desktop\\digitalfutures\\venv\\lib\\site-packages (from alembic->optuna) (1.2.0)\n",
      "Requirement already satisfied: cmd2>=1.0.0 in c:\\users\\hiroa\\desktop\\digitalfutures\\venv\\lib\\site-packages (from cliff->optuna) (2.4.1)\n",
      "Requirement already satisfied: autopage>=0.4.0 in c:\\users\\hiroa\\desktop\\digitalfutures\\venv\\lib\\site-packages (from cliff->optuna) (0.5.1)\n",
      "Requirement already satisfied: pbr!=2.1.0,>=2.0.0 in c:\\users\\hiroa\\desktop\\digitalfutures\\venv\\lib\\site-packages (from cliff->optuna) (5.9.0)\n",
      "Requirement already satisfied: PrettyTable>=0.7.2 in c:\\users\\hiroa\\desktop\\digitalfutures\\venv\\lib\\site-packages (from cliff->optuna) (3.3.0)\n",
      "Requirement already satisfied: stevedore>=2.0.1 in c:\\users\\hiroa\\desktop\\digitalfutures\\venv\\lib\\site-packages (from cliff->optuna) (3.5.0)\n",
      "Requirement already satisfied: colorama in c:\\users\\hiroa\\desktop\\digitalfutures\\venv\\lib\\site-packages (from colorlog->optuna) (0.4.4)\n",
      "Requirement already satisfied: pywin32>=1.0 in c:\\users\\hiroa\\desktop\\digitalfutures\\venv\\lib\\site-packages (from jupyter-core->nbformat) (304)\n",
      "Requirement already satisfied: pyreadline3 in c:\\users\\hiroa\\desktop\\digitalfutures\\venv\\lib\\site-packages (from cmd2>=1.0.0->cliff->optuna) (3.4.1)\n",
      "Requirement already satisfied: pyperclip>=1.6 in c:\\users\\hiroa\\desktop\\digitalfutures\\venv\\lib\\site-packages (from cmd2>=1.0.0->cliff->optuna) (1.8.2)\n",
      "Requirement already satisfied: wcwidth>=0.1.7 in c:\\users\\hiroa\\desktop\\digitalfutures\\venv\\lib\\site-packages (from cmd2>=1.0.0->cliff->optuna) (0.2.5)\n",
      "Requirement already satisfied: MarkupSafe>=0.9.2 in c:\\users\\hiroa\\desktop\\digitalfutures\\venv\\lib\\site-packages (from Mako->alembic->optuna) (2.1.1)\n"
     ]
    },
    {
     "name": "stderr",
     "output_type": "stream",
     "text": [
      "WARNING: You are using pip version 22.0.4; however, version 22.1.2 is available.\n",
      "You should consider upgrading via the 'C:\\Users\\hiroa\\Desktop\\DigitalFUTURES\\venv\\Scripts\\python.exe -m pip install --upgrade pip' command.\n"
     ]
    }
   ],
   "source": [
    "!pip install optuna plotly"
   ]
  },
  {
   "cell_type": "code",
   "execution_count": 17,
   "metadata": {},
   "outputs": [],
   "source": [
    "import optuna\n"
   ]
  },
  {
   "cell_type": "code",
   "execution_count": 18,
   "metadata": {},
   "outputs": [],
   "source": [
    "def objective(trial):\n",
    "    x = trial.suggest_float('x', -10, 10)\n",
    "    return (x - 2) ** 2\n"
   ]
  },
  {
   "cell_type": "code",
   "execution_count": 19,
   "metadata": {},
   "outputs": [
    {
     "name": "stderr",
     "output_type": "stream",
     "text": [
      "\u001b[32m[I 2022-06-25 16:11:31,064]\u001b[0m A new study created in memory with name: no-name-2e123254-00df-440c-b0fe-76f442c657a3\u001b[0m\n",
      "\u001b[32m[I 2022-06-25 16:11:31,065]\u001b[0m Trial 0 finished with value: 45.68880199900072 and parameters: {'x': 8.759349228956935}. Best is trial 0 with value: 45.68880199900072.\u001b[0m\n",
      "\u001b[32m[I 2022-06-25 16:11:31,066]\u001b[0m Trial 1 finished with value: 0.24463781670000695 and parameters: {'x': 2.49460875113569}. Best is trial 1 with value: 0.24463781670000695.\u001b[0m\n",
      "\u001b[32m[I 2022-06-25 16:11:31,067]\u001b[0m Trial 2 finished with value: 48.77140389981209 and parameters: {'x': -4.9836526187813845}. Best is trial 1 with value: 0.24463781670000695.\u001b[0m\n",
      "\u001b[32m[I 2022-06-25 16:11:31,069]\u001b[0m Trial 3 finished with value: 0.4050299599986979 and parameters: {'x': 2.636419641430635}. Best is trial 1 with value: 0.24463781670000695.\u001b[0m\n",
      "\u001b[32m[I 2022-06-25 16:11:31,069]\u001b[0m Trial 4 finished with value: 35.58547273077161 and parameters: {'x': 7.965356043923247}. Best is trial 1 with value: 0.24463781670000695.\u001b[0m\n",
      "\u001b[32m[I 2022-06-25 16:11:31,070]\u001b[0m Trial 5 finished with value: 16.797094330521492 and parameters: {'x': -2.098425835674167}. Best is trial 1 with value: 0.24463781670000695.\u001b[0m\n",
      "\u001b[32m[I 2022-06-25 16:11:31,071]\u001b[0m Trial 6 finished with value: 1.9417838813225141 and parameters: {'x': 0.6065209433498779}. Best is trial 1 with value: 0.24463781670000695.\u001b[0m\n",
      "\u001b[32m[I 2022-06-25 16:11:31,072]\u001b[0m Trial 7 finished with value: 18.708154200172338 and parameters: {'x': 6.325292383200509}. Best is trial 1 with value: 0.24463781670000695.\u001b[0m\n",
      "\u001b[32m[I 2022-06-25 16:11:31,073]\u001b[0m Trial 8 finished with value: 31.917478338916297 and parameters: {'x': -3.6495555877357555}. Best is trial 1 with value: 0.24463781670000695.\u001b[0m\n",
      "\u001b[32m[I 2022-06-25 16:11:31,074]\u001b[0m Trial 9 finished with value: 40.66207082425063 and parameters: {'x': 8.376681803591161}. Best is trial 1 with value: 0.24463781670000695.\u001b[0m\n",
      "\u001b[32m[I 2022-06-25 16:11:31,075]\u001b[0m Trial 10 finished with value: 45.68880199900072 and parameters: {'x': 8.759349228956935}. Best is trial 1 with value: 0.24463781670000695.\u001b[0m\n",
      "\u001b[32m[I 2022-06-25 16:11:31,076]\u001b[0m Trial 11 finished with value: 0.4050299599986979 and parameters: {'x': 2.636419641430635}. Best is trial 1 with value: 0.24463781670000695.\u001b[0m\n",
      "\u001b[32m[I 2022-06-25 16:11:31,077]\u001b[0m Trial 12 finished with value: 40.66207082425063 and parameters: {'x': 8.376681803591161}. Best is trial 1 with value: 0.24463781670000695.\u001b[0m\n",
      "\u001b[32m[I 2022-06-25 16:11:31,078]\u001b[0m Trial 13 finished with value: 18.708154200172338 and parameters: {'x': 6.325292383200509}. Best is trial 1 with value: 0.24463781670000695.\u001b[0m\n",
      "\u001b[32m[I 2022-06-25 16:11:31,078]\u001b[0m Trial 14 finished with value: 0.24463781670000695 and parameters: {'x': 2.49460875113569}. Best is trial 1 with value: 0.24463781670000695.\u001b[0m\n",
      "\u001b[32m[I 2022-06-25 16:11:31,079]\u001b[0m Trial 15 finished with value: 31.917478338916297 and parameters: {'x': -3.6495555877357555}. Best is trial 1 with value: 0.24463781670000695.\u001b[0m\n",
      "\u001b[32m[I 2022-06-25 16:11:31,080]\u001b[0m Trial 16 finished with value: 18.708154200172338 and parameters: {'x': 6.325292383200509}. Best is trial 1 with value: 0.24463781670000695.\u001b[0m\n",
      "\u001b[32m[I 2022-06-25 16:11:31,081]\u001b[0m Trial 17 finished with value: 50.23592283839485 and parameters: {'x': -5.08773044340675}. Best is trial 1 with value: 0.24463781670000695.\u001b[0m\n",
      "\u001b[32m[I 2022-06-25 16:11:31,082]\u001b[0m Trial 18 finished with value: 0.24463781670000695 and parameters: {'x': 2.49460875113569}. Best is trial 1 with value: 0.24463781670000695.\u001b[0m\n",
      "\u001b[32m[I 2022-06-25 16:11:31,083]\u001b[0m Trial 19 finished with value: 0.24463781670000695 and parameters: {'x': 2.49460875113569}. Best is trial 1 with value: 0.24463781670000695.\u001b[0m\n",
      "\u001b[32m[I 2022-06-25 16:11:31,084]\u001b[0m Trial 20 finished with value: 0.24463781670000695 and parameters: {'x': 2.49460875113569}. Best is trial 1 with value: 0.24463781670000695.\u001b[0m\n",
      "\u001b[32m[I 2022-06-25 16:11:31,086]\u001b[0m Trial 21 finished with value: 135.89369711873087 and parameters: {'x': -9.657345200290282}. Best is trial 1 with value: 0.24463781670000695.\u001b[0m\n",
      "\u001b[32m[I 2022-06-25 16:11:31,087]\u001b[0m Trial 22 finished with value: 0.24463781670000695 and parameters: {'x': 2.49460875113569}. Best is trial 1 with value: 0.24463781670000695.\u001b[0m\n",
      "\u001b[32m[I 2022-06-25 16:11:31,088]\u001b[0m Trial 23 finished with value: 0.24463781670000695 and parameters: {'x': 2.49460875113569}. Best is trial 1 with value: 0.24463781670000695.\u001b[0m\n",
      "\u001b[32m[I 2022-06-25 16:11:31,088]\u001b[0m Trial 24 finished with value: 0.24463781670000695 and parameters: {'x': 2.49460875113569}. Best is trial 1 with value: 0.24463781670000695.\u001b[0m\n",
      "\u001b[32m[I 2022-06-25 16:11:31,089]\u001b[0m Trial 25 finished with value: 0.4050299599986979 and parameters: {'x': 2.636419641430635}. Best is trial 1 with value: 0.24463781670000695.\u001b[0m\n",
      "\u001b[32m[I 2022-06-25 16:11:31,090]\u001b[0m Trial 26 finished with value: 0.24463781670000695 and parameters: {'x': 2.49460875113569}. Best is trial 1 with value: 0.24463781670000695.\u001b[0m\n",
      "\u001b[32m[I 2022-06-25 16:11:31,091]\u001b[0m Trial 27 finished with value: 0.24463781670000695 and parameters: {'x': 2.49460875113569}. Best is trial 1 with value: 0.24463781670000695.\u001b[0m\n",
      "\u001b[32m[I 2022-06-25 16:11:31,091]\u001b[0m Trial 28 finished with value: 0.24463781670000695 and parameters: {'x': 2.49460875113569}. Best is trial 1 with value: 0.24463781670000695.\u001b[0m\n",
      "\u001b[32m[I 2022-06-25 16:11:31,092]\u001b[0m Trial 29 finished with value: 38.03917201660291 and parameters: {'x': 8.167590454675384}. Best is trial 1 with value: 0.24463781670000695.\u001b[0m\n",
      "\u001b[32m[I 2022-06-25 16:11:31,094]\u001b[0m Trial 30 finished with value: 0.24463781670000695 and parameters: {'x': 2.49460875113569}. Best is trial 1 with value: 0.24463781670000695.\u001b[0m\n",
      "\u001b[32m[I 2022-06-25 16:11:31,095]\u001b[0m Trial 31 finished with value: 0.24463781670000695 and parameters: {'x': 2.49460875113569}. Best is trial 1 with value: 0.24463781670000695.\u001b[0m\n",
      "\u001b[32m[I 2022-06-25 16:11:31,096]\u001b[0m Trial 32 finished with value: 0.24463781670000695 and parameters: {'x': 2.49460875113569}. Best is trial 1 with value: 0.24463781670000695.\u001b[0m\n",
      "\u001b[32m[I 2022-06-25 16:11:31,097]\u001b[0m Trial 33 finished with value: 0.24463781670000695 and parameters: {'x': 2.49460875113569}. Best is trial 1 with value: 0.24463781670000695.\u001b[0m\n",
      "\u001b[32m[I 2022-06-25 16:11:31,098]\u001b[0m Trial 34 finished with value: 0.24463781670000695 and parameters: {'x': 2.49460875113569}. Best is trial 1 with value: 0.24463781670000695.\u001b[0m\n",
      "\u001b[32m[I 2022-06-25 16:11:31,099]\u001b[0m Trial 35 finished with value: 0.24463781670000695 and parameters: {'x': 2.49460875113569}. Best is trial 1 with value: 0.24463781670000695.\u001b[0m\n",
      "\u001b[32m[I 2022-06-25 16:11:31,101]\u001b[0m Trial 36 finished with value: 0.24463781670000695 and parameters: {'x': 2.49460875113569}. Best is trial 1 with value: 0.24463781670000695.\u001b[0m\n",
      "\u001b[32m[I 2022-06-25 16:11:31,102]\u001b[0m Trial 37 finished with value: 0.24463781670000695 and parameters: {'x': 2.49460875113569}. Best is trial 1 with value: 0.24463781670000695.\u001b[0m\n",
      "\u001b[32m[I 2022-06-25 16:11:31,103]\u001b[0m Trial 38 finished with value: 0.24463781670000695 and parameters: {'x': 2.49460875113569}. Best is trial 1 with value: 0.24463781670000695.\u001b[0m\n",
      "\u001b[32m[I 2022-06-25 16:11:31,104]\u001b[0m Trial 39 finished with value: 0.24463781670000695 and parameters: {'x': 2.49460875113569}. Best is trial 1 with value: 0.24463781670000695.\u001b[0m\n",
      "\u001b[32m[I 2022-06-25 16:11:31,105]\u001b[0m Trial 40 finished with value: 0.24463781670000695 and parameters: {'x': 2.49460875113569}. Best is trial 1 with value: 0.24463781670000695.\u001b[0m\n",
      "\u001b[32m[I 2022-06-25 16:11:31,106]\u001b[0m Trial 41 finished with value: 0.24463781670000695 and parameters: {'x': 2.49460875113569}. Best is trial 1 with value: 0.24463781670000695.\u001b[0m\n",
      "\u001b[32m[I 2022-06-25 16:11:31,107]\u001b[0m Trial 42 finished with value: 0.24463781670000695 and parameters: {'x': 2.49460875113569}. Best is trial 1 with value: 0.24463781670000695.\u001b[0m\n",
      "\u001b[32m[I 2022-06-25 16:11:31,108]\u001b[0m Trial 43 finished with value: 4.00103855902964 and parameters: {'x': 4.0002596229063965}. Best is trial 1 with value: 0.24463781670000695.\u001b[0m\n",
      "\u001b[32m[I 2022-06-25 16:11:31,109]\u001b[0m Trial 44 finished with value: 0.24463781670000695 and parameters: {'x': 2.49460875113569}. Best is trial 1 with value: 0.24463781670000695.\u001b[0m\n",
      "\u001b[32m[I 2022-06-25 16:11:31,110]\u001b[0m Trial 45 finished with value: 0.24463781670000695 and parameters: {'x': 2.49460875113569}. Best is trial 1 with value: 0.24463781670000695.\u001b[0m\n",
      "\u001b[32m[I 2022-06-25 16:11:31,111]\u001b[0m Trial 46 finished with value: 0.24463781670000695 and parameters: {'x': 2.49460875113569}. Best is trial 1 with value: 0.24463781670000695.\u001b[0m\n",
      "\u001b[32m[I 2022-06-25 16:11:31,112]\u001b[0m Trial 47 finished with value: 0.24463781670000695 and parameters: {'x': 2.49460875113569}. Best is trial 1 with value: 0.24463781670000695.\u001b[0m\n",
      "\u001b[32m[I 2022-06-25 16:11:31,113]\u001b[0m Trial 48 finished with value: 0.24463781670000695 and parameters: {'x': 2.49460875113569}. Best is trial 1 with value: 0.24463781670000695.\u001b[0m\n",
      "\u001b[32m[I 2022-06-25 16:11:31,114]\u001b[0m Trial 49 finished with value: 0.24463781670000695 and parameters: {'x': 2.49460875113569}. Best is trial 1 with value: 0.24463781670000695.\u001b[0m\n",
      "\u001b[32m[I 2022-06-25 16:11:31,115]\u001b[0m Trial 50 finished with value: 0.24463781670000695 and parameters: {'x': 2.49460875113569}. Best is trial 1 with value: 0.24463781670000695.\u001b[0m\n",
      "\u001b[32m[I 2022-06-25 16:11:31,116]\u001b[0m Trial 51 finished with value: 0.24463781670000695 and parameters: {'x': 2.49460875113569}. Best is trial 1 with value: 0.24463781670000695.\u001b[0m\n",
      "\u001b[32m[I 2022-06-25 16:11:31,118]\u001b[0m Trial 52 finished with value: 115.66664475621376 and parameters: {'x': -8.75484285130256}. Best is trial 1 with value: 0.24463781670000695.\u001b[0m\n",
      "\u001b[32m[I 2022-06-25 16:11:31,119]\u001b[0m Trial 53 finished with value: 0.24463781670000695 and parameters: {'x': 2.49460875113569}. Best is trial 1 with value: 0.24463781670000695.\u001b[0m\n",
      "\u001b[32m[I 2022-06-25 16:11:31,119]\u001b[0m Trial 54 finished with value: 35.11000994960007 and parameters: {'x': -3.9253700263865436}. Best is trial 1 with value: 0.24463781670000695.\u001b[0m\n",
      "\u001b[32m[I 2022-06-25 16:11:31,120]\u001b[0m Trial 55 finished with value: 0.24463781670000695 and parameters: {'x': 2.49460875113569}. Best is trial 1 with value: 0.24463781670000695.\u001b[0m\n",
      "\u001b[32m[I 2022-06-25 16:11:31,121]\u001b[0m Trial 56 finished with value: 0.24463781670000695 and parameters: {'x': 2.49460875113569}. Best is trial 1 with value: 0.24463781670000695.\u001b[0m\n",
      "\u001b[32m[I 2022-06-25 16:11:31,122]\u001b[0m Trial 57 finished with value: 0.24463781670000695 and parameters: {'x': 2.49460875113569}. Best is trial 1 with value: 0.24463781670000695.\u001b[0m\n",
      "\u001b[32m[I 2022-06-25 16:11:31,122]\u001b[0m Trial 58 finished with value: 0.24463781670000695 and parameters: {'x': 2.49460875113569}. Best is trial 1 with value: 0.24463781670000695.\u001b[0m\n",
      "\u001b[32m[I 2022-06-25 16:11:31,123]\u001b[0m Trial 59 finished with value: 0.24463781670000695 and parameters: {'x': 2.49460875113569}. Best is trial 1 with value: 0.24463781670000695.\u001b[0m\n",
      "\u001b[32m[I 2022-06-25 16:11:31,125]\u001b[0m Trial 60 finished with value: 0.24463781670000695 and parameters: {'x': 2.49460875113569}. Best is trial 1 with value: 0.24463781670000695.\u001b[0m\n",
      "\u001b[32m[I 2022-06-25 16:11:31,126]\u001b[0m Trial 61 finished with value: 0.24463781670000695 and parameters: {'x': 2.49460875113569}. Best is trial 1 with value: 0.24463781670000695.\u001b[0m\n",
      "\u001b[32m[I 2022-06-25 16:11:31,127]\u001b[0m Trial 62 finished with value: 0.24463781670000695 and parameters: {'x': 2.49460875113569}. Best is trial 1 with value: 0.24463781670000695.\u001b[0m\n",
      "\u001b[32m[I 2022-06-25 16:11:31,128]\u001b[0m Trial 63 finished with value: 0.24463781670000695 and parameters: {'x': 2.49460875113569}. Best is trial 1 with value: 0.24463781670000695.\u001b[0m\n",
      "\u001b[32m[I 2022-06-25 16:11:31,129]\u001b[0m Trial 64 finished with value: 0.30868314620998716 and parameters: {'x': 1.4444073918688378}. Best is trial 1 with value: 0.24463781670000695.\u001b[0m\n",
      "\u001b[32m[I 2022-06-25 16:11:31,129]\u001b[0m Trial 65 finished with value: 0.24463781670000695 and parameters: {'x': 2.49460875113569}. Best is trial 1 with value: 0.24463781670000695.\u001b[0m\n",
      "\u001b[32m[I 2022-06-25 16:11:31,130]\u001b[0m Trial 66 finished with value: 0.24463781670000695 and parameters: {'x': 2.49460875113569}. Best is trial 1 with value: 0.24463781670000695.\u001b[0m\n",
      "\u001b[32m[I 2022-06-25 16:11:31,131]\u001b[0m Trial 67 finished with value: 0.24463781670000695 and parameters: {'x': 2.49460875113569}. Best is trial 1 with value: 0.24463781670000695.\u001b[0m\n",
      "\u001b[32m[I 2022-06-25 16:11:31,132]\u001b[0m Trial 68 finished with value: 0.24463781670000695 and parameters: {'x': 2.49460875113569}. Best is trial 1 with value: 0.24463781670000695.\u001b[0m\n",
      "\u001b[32m[I 2022-06-25 16:11:31,133]\u001b[0m Trial 69 finished with value: 0.24463781670000695 and parameters: {'x': 2.49460875113569}. Best is trial 1 with value: 0.24463781670000695.\u001b[0m\n",
      "\u001b[32m[I 2022-06-25 16:11:31,134]\u001b[0m Trial 70 finished with value: 0.24463781670000695 and parameters: {'x': 2.49460875113569}. Best is trial 1 with value: 0.24463781670000695.\u001b[0m\n",
      "\u001b[32m[I 2022-06-25 16:11:31,135]\u001b[0m Trial 71 finished with value: 0.24463781670000695 and parameters: {'x': 2.49460875113569}. Best is trial 1 with value: 0.24463781670000695.\u001b[0m\n",
      "\u001b[32m[I 2022-06-25 16:11:31,137]\u001b[0m Trial 72 finished with value: 0.20969488937262537 and parameters: {'x': 2.457924545501358}. Best is trial 72 with value: 0.20969488937262537.\u001b[0m\n",
      "\u001b[32m[I 2022-06-25 16:11:31,138]\u001b[0m Trial 73 finished with value: 0.24463781670000695 and parameters: {'x': 2.49460875113569}. Best is trial 72 with value: 0.20969488937262537.\u001b[0m\n",
      "\u001b[32m[I 2022-06-25 16:11:31,139]\u001b[0m Trial 74 finished with value: 0.24463781670000695 and parameters: {'x': 2.49460875113569}. Best is trial 72 with value: 0.20969488937262537.\u001b[0m\n",
      "\u001b[32m[I 2022-06-25 16:11:31,140]\u001b[0m Trial 75 finished with value: 0.24463781670000695 and parameters: {'x': 2.49460875113569}. Best is trial 72 with value: 0.20969488937262537.\u001b[0m\n",
      "\u001b[32m[I 2022-06-25 16:11:31,140]\u001b[0m Trial 76 finished with value: 0.24463781670000695 and parameters: {'x': 2.49460875113569}. Best is trial 72 with value: 0.20969488937262537.\u001b[0m\n",
      "\u001b[32m[I 2022-06-25 16:11:31,141]\u001b[0m Trial 77 finished with value: 0.24463781670000695 and parameters: {'x': 2.49460875113569}. Best is trial 72 with value: 0.20969488937262537.\u001b[0m\n",
      "\u001b[32m[I 2022-06-25 16:11:31,142]\u001b[0m Trial 78 finished with value: 0.36968550662578054 and parameters: {'x': 2.6080176861126496}. Best is trial 72 with value: 0.20969488937262537.\u001b[0m\n",
      "\u001b[32m[I 2022-06-25 16:11:31,142]\u001b[0m Trial 79 finished with value: 0.24463781670000695 and parameters: {'x': 2.49460875113569}. Best is trial 72 with value: 0.20969488937262537.\u001b[0m\n",
      "\u001b[32m[I 2022-06-25 16:11:31,144]\u001b[0m Trial 80 finished with value: 0.24463781670000695 and parameters: {'x': 2.49460875113569}. Best is trial 72 with value: 0.20969488937262537.\u001b[0m\n",
      "\u001b[32m[I 2022-06-25 16:11:31,145]\u001b[0m Trial 81 finished with value: 0.24463781670000695 and parameters: {'x': 2.49460875113569}. Best is trial 72 with value: 0.20969488937262537.\u001b[0m\n",
      "\u001b[32m[I 2022-06-25 16:11:31,146]\u001b[0m Trial 82 finished with value: 0.24463781670000695 and parameters: {'x': 2.49460875113569}. Best is trial 72 with value: 0.20969488937262537.\u001b[0m\n",
      "\u001b[32m[I 2022-06-25 16:11:31,147]\u001b[0m Trial 83 finished with value: 0.24463781670000695 and parameters: {'x': 2.49460875113569}. Best is trial 72 with value: 0.20969488937262537.\u001b[0m\n",
      "\u001b[32m[I 2022-06-25 16:11:31,149]\u001b[0m Trial 84 finished with value: 0.24463781670000695 and parameters: {'x': 2.49460875113569}. Best is trial 72 with value: 0.20969488937262537.\u001b[0m\n",
      "\u001b[32m[I 2022-06-25 16:11:31,150]\u001b[0m Trial 85 finished with value: 0.24463781670000695 and parameters: {'x': 2.49460875113569}. Best is trial 72 with value: 0.20969488937262537.\u001b[0m\n",
      "\u001b[32m[I 2022-06-25 16:11:31,150]\u001b[0m Trial 86 finished with value: 0.24463781670000695 and parameters: {'x': 2.49460875113569}. Best is trial 72 with value: 0.20969488937262537.\u001b[0m\n",
      "\u001b[32m[I 2022-06-25 16:11:31,151]\u001b[0m Trial 87 finished with value: 0.24463781670000695 and parameters: {'x': 2.49460875113569}. Best is trial 72 with value: 0.20969488937262537.\u001b[0m\n",
      "\u001b[32m[I 2022-06-25 16:11:31,152]\u001b[0m Trial 88 finished with value: 0.24463781670000695 and parameters: {'x': 2.49460875113569}. Best is trial 72 with value: 0.20969488937262537.\u001b[0m\n",
      "\u001b[32m[I 2022-06-25 16:11:31,153]\u001b[0m Trial 89 finished with value: 0.24463781670000695 and parameters: {'x': 2.49460875113569}. Best is trial 72 with value: 0.20969488937262537.\u001b[0m\n",
      "\u001b[32m[I 2022-06-25 16:11:31,155]\u001b[0m Trial 90 finished with value: 0.24463781670000695 and parameters: {'x': 2.49460875113569}. Best is trial 72 with value: 0.20969488937262537.\u001b[0m\n",
      "\u001b[32m[I 2022-06-25 16:11:31,157]\u001b[0m Trial 91 finished with value: 0.24463781670000695 and parameters: {'x': 2.49460875113569}. Best is trial 72 with value: 0.20969488937262537.\u001b[0m\n",
      "\u001b[32m[I 2022-06-25 16:11:31,158]\u001b[0m Trial 92 finished with value: 0.24463781670000695 and parameters: {'x': 2.49460875113569}. Best is trial 72 with value: 0.20969488937262537.\u001b[0m\n",
      "\u001b[32m[I 2022-06-25 16:11:31,159]\u001b[0m Trial 93 finished with value: 0.24463781670000695 and parameters: {'x': 2.49460875113569}. Best is trial 72 with value: 0.20969488937262537.\u001b[0m\n",
      "\u001b[32m[I 2022-06-25 16:11:31,160]\u001b[0m Trial 94 finished with value: 35.077315147440146 and parameters: {'x': 7.922610501074686}. Best is trial 72 with value: 0.20969488937262537.\u001b[0m\n",
      "\u001b[32m[I 2022-06-25 16:11:31,161]\u001b[0m Trial 95 finished with value: 0.24463781670000695 and parameters: {'x': 2.49460875113569}. Best is trial 72 with value: 0.20969488937262537.\u001b[0m\n",
      "\u001b[32m[I 2022-06-25 16:11:31,162]\u001b[0m Trial 96 finished with value: 0.24463781670000695 and parameters: {'x': 2.49460875113569}. Best is trial 72 with value: 0.20969488937262537.\u001b[0m\n",
      "\u001b[32m[I 2022-06-25 16:11:31,163]\u001b[0m Trial 97 finished with value: 0.24463781670000695 and parameters: {'x': 2.49460875113569}. Best is trial 72 with value: 0.20969488937262537.\u001b[0m\n",
      "\u001b[32m[I 2022-06-25 16:11:31,163]\u001b[0m Trial 98 finished with value: 0.24463781670000695 and parameters: {'x': 2.49460875113569}. Best is trial 72 with value: 0.20969488937262537.\u001b[0m\n",
      "\u001b[32m[I 2022-06-25 16:11:31,164]\u001b[0m Trial 99 finished with value: 0.24463781670000695 and parameters: {'x': 2.49460875113569}. Best is trial 72 with value: 0.20969488937262537.\u001b[0m\n"
     ]
    },
    {
     "name": "stdout",
     "output_type": "stream",
     "text": [
      "Best param:  {'x': 2.457924545501358}\n",
      "Best value:  0.20969488937262537\n"
     ]
    }
   ],
   "source": [
    "sampler = optuna.samplers.NSGAIISampler(\n",
    "    population_size=10,\n",
    "    mutation_prob=0.1,\n",
    "    crossover_prob=0.8,\n",
    "    swapping_prob=0.4,\n",
    ")\n",
    "study = optuna.create_study(sampler=sampler)\n",
    "study.optimize(objective, n_trials=100)\n",
    "\n",
    "print(\"Best param: \", study.best_params)\n",
    "print(\"Best value: \", study.best_value)\n"
   ]
  },
  {
   "cell_type": "code",
   "execution_count": 20,
   "metadata": {},
   "outputs": [
    {
     "ename": "ValueError",
     "evalue": "Mime type rendering requires nbformat>=4.2.0 but it is not installed",
     "output_type": "error",
     "traceback": [
      "\u001b[1;31m---------------------------------------------------------------------------\u001b[0m",
      "\u001b[1;31mValueError\u001b[0m                                Traceback (most recent call last)",
      "\u001b[1;32mc:\\Users\\hiroa\\Desktop\\DigitalFUTURES\\Day3\\ipynb\\run_optuna.ipynb Cell 5'\u001b[0m in \u001b[0;36m<cell line: 2>\u001b[1;34m()\u001b[0m\n\u001b[0;32m      <a href='vscode-notebook-cell:/c%3A/Users/hiroa/Desktop/DigitalFUTURES/Day3/ipynb/run_optuna.ipynb#ch0000003?line=0'>1</a>\u001b[0m vis \u001b[39m=\u001b[39m optuna\u001b[39m.\u001b[39mvisualization\u001b[39m.\u001b[39mplot_optimization_history(study)\n\u001b[1;32m----> <a href='vscode-notebook-cell:/c%3A/Users/hiroa/Desktop/DigitalFUTURES/Day3/ipynb/run_optuna.ipynb#ch0000003?line=1'>2</a>\u001b[0m vis\u001b[39m.\u001b[39;49mshow()\n",
      "File \u001b[1;32mc:\\Users\\hiroa\\Desktop\\DigitalFUTURES\\venv\\lib\\site-packages\\plotly\\basedatatypes.py:3398\u001b[0m, in \u001b[0;36mBaseFigure.show\u001b[1;34m(self, *args, **kwargs)\u001b[0m\n\u001b[0;32m   3365\u001b[0m \u001b[39m\"\"\"\u001b[39;00m\n\u001b[0;32m   3366\u001b[0m \u001b[39mShow a figure using either the default renderer(s) or the renderer(s)\u001b[39;00m\n\u001b[0;32m   3367\u001b[0m \u001b[39mspecified by the renderer argument\u001b[39;00m\n\u001b[1;32m   (...)\u001b[0m\n\u001b[0;32m   3394\u001b[0m \u001b[39mNone\u001b[39;00m\n\u001b[0;32m   3395\u001b[0m \u001b[39m\"\"\"\u001b[39;00m\n\u001b[0;32m   3396\u001b[0m \u001b[39mimport\u001b[39;00m \u001b[39mplotly\u001b[39;00m\u001b[39m.\u001b[39;00m\u001b[39mio\u001b[39;00m \u001b[39mas\u001b[39;00m \u001b[39mpio\u001b[39;00m\n\u001b[1;32m-> 3398\u001b[0m \u001b[39mreturn\u001b[39;00m pio\u001b[39m.\u001b[39mshow(\u001b[39mself\u001b[39m, \u001b[39m*\u001b[39margs, \u001b[39m*\u001b[39m\u001b[39m*\u001b[39mkwargs)\n",
      "File \u001b[1;32mc:\\Users\\hiroa\\Desktop\\DigitalFUTURES\\venv\\lib\\site-packages\\plotly\\io\\_renderers.py:396\u001b[0m, in \u001b[0;36mshow\u001b[1;34m(fig, renderer, validate, **kwargs)\u001b[0m\n\u001b[0;32m    391\u001b[0m         \u001b[39mraise\u001b[39;00m \u001b[39mValueError\u001b[39;00m(\n\u001b[0;32m    392\u001b[0m             \u001b[39m\"\u001b[39m\u001b[39mMime type rendering requires ipython but it is not installed\u001b[39m\u001b[39m\"\u001b[39m\n\u001b[0;32m    393\u001b[0m         )\n\u001b[0;32m    395\u001b[0m     \u001b[39mif\u001b[39;00m \u001b[39mnot\u001b[39;00m nbformat \u001b[39mor\u001b[39;00m LooseVersion(nbformat\u001b[39m.\u001b[39m__version__) \u001b[39m<\u001b[39m LooseVersion(\u001b[39m\"\u001b[39m\u001b[39m4.2.0\u001b[39m\u001b[39m\"\u001b[39m):\n\u001b[1;32m--> 396\u001b[0m         \u001b[39mraise\u001b[39;00m \u001b[39mValueError\u001b[39;00m(\n\u001b[0;32m    397\u001b[0m             \u001b[39m\"\u001b[39m\u001b[39mMime type rendering requires nbformat>=4.2.0 but it is not installed\u001b[39m\u001b[39m\"\u001b[39m\n\u001b[0;32m    398\u001b[0m         )\n\u001b[0;32m    400\u001b[0m     ipython_display\u001b[39m.\u001b[39mdisplay(bundle, raw\u001b[39m=\u001b[39m\u001b[39mTrue\u001b[39;00m)\n\u001b[0;32m    402\u001b[0m \u001b[39m# external renderers\u001b[39;00m\n",
      "\u001b[1;31mValueError\u001b[0m: Mime type rendering requires nbformat>=4.2.0 but it is not installed"
     ]
    }
   ],
   "source": [
    "vis = optuna.visualization.plot_optimization_history(study)\n",
    "vis.show()\n"
   ]
  }
 ],
 "metadata": {
  "kernelspec": {
   "display_name": "Python 3.9.13 ('venv': venv)",
   "language": "python",
   "name": "python3"
  },
  "language_info": {
   "codemirror_mode": {
    "name": "ipython",
    "version": 3
   },
   "file_extension": ".py",
   "mimetype": "text/x-python",
   "name": "python",
   "nbconvert_exporter": "python",
   "pygments_lexer": "ipython3",
   "version": "3.9.13"
  },
  "orig_nbformat": 4,
  "vscode": {
   "interpreter": {
    "hash": "7548e00b83e402ca96781c1de0f09fedebb21f00d07e3d61a229255440cbc19f"
   }
  }
 },
 "nbformat": 4,
 "nbformat_minor": 2
}
