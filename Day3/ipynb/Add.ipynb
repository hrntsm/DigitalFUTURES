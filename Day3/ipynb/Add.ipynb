{
 "cells": [
  {
   "cell_type": "markdown",
   "metadata": {},
   "source": [
    "必要なライブラリをインストールします。\n"
   ]
  },
  {
   "cell_type": "code",
   "execution_count": 9,
   "metadata": {},
   "outputs": [
    {
     "name": "stdout",
     "output_type": "stream",
     "text": [
      "Requirement already satisfied: compute_rhino3d in c:\\users\\hiroa\\desktop\\digitalfutures\\venv\\lib\\site-packages (0.12.2)\n",
      "Requirement already satisfied: rhino3dm in c:\\users\\hiroa\\desktop\\digitalfutures\\venv\\lib\\site-packages (7.15.0)\n",
      "Requirement already satisfied: requests in c:\\users\\hiroa\\desktop\\digitalfutures\\venv\\lib\\site-packages (from compute_rhino3d) (2.28.0)\n",
      "Requirement already satisfied: certifi>=2017.4.17 in c:\\users\\hiroa\\desktop\\digitalfutures\\venv\\lib\\site-packages (from requests->compute_rhino3d) (2022.5.18.1)\n",
      "Requirement already satisfied: idna<4,>=2.5 in c:\\users\\hiroa\\desktop\\digitalfutures\\venv\\lib\\site-packages (from requests->compute_rhino3d) (3.3)\n",
      "Requirement already satisfied: charset-normalizer~=2.0.0 in c:\\users\\hiroa\\desktop\\digitalfutures\\venv\\lib\\site-packages (from requests->compute_rhino3d) (2.0.12)\n",
      "Requirement already satisfied: urllib3<1.27,>=1.21.1 in c:\\users\\hiroa\\desktop\\digitalfutures\\venv\\lib\\site-packages (from requests->compute_rhino3d) (1.26.9)\n"
     ]
    },
    {
     "name": "stderr",
     "output_type": "stream",
     "text": [
      "WARNING: You are using pip version 22.0.4; however, version 22.1.2 is available.\n",
      "You should consider upgrading via the 'C:\\Users\\hiroa\\Desktop\\DigitalFUTURES\\venv\\Scripts\\python.exe -m pip install --upgrade pip' command.\n"
     ]
    }
   ],
   "source": [
    "! pip install compute_rhino3d rhino3dm\n"
   ]
  },
  {
   "cell_type": "markdown",
   "metadata": {},
   "source": [
    "上でインストールしたライブラリを import（これ以降のコードで使えるように）します。\n"
   ]
  },
  {
   "cell_type": "code",
   "execution_count": 10,
   "metadata": {},
   "outputs": [],
   "source": [
    "import compute_rhino3d.Util\n",
    "import compute_rhino3d.Grasshopper as gh\n",
    "import rhino3dm\n",
    "import json\n"
   ]
  },
  {
   "cell_type": "markdown",
   "metadata": {},
   "source": [
    "RhinoCompute が実行されているアドレスを設定します。\n"
   ]
  },
  {
   "cell_type": "code",
   "execution_count": 11,
   "metadata": {},
   "outputs": [],
   "source": [
    "compute_rhino3d.Util.url = 'http://localhost:6500/'\n"
   ]
  },
  {
   "cell_type": "markdown",
   "metadata": {},
   "source": [
    "Grasshopper に入力したい値を設定します。\n"
   ]
  },
  {
   "cell_type": "code",
   "execution_count": 12,
   "metadata": {},
   "outputs": [],
   "source": [
    "input_trees = []\n",
    "tree = gh.DataTree(\"A\")\n",
    "tree.Append([0], [\"1.0\"])\n",
    "input_trees.append(tree)\n",
    "\n",
    "tree = gh.DataTree(\"B\")\n",
    "tree.Append([0], [\"1.0\"])\n",
    "input_trees.append(tree)\n"
   ]
  },
  {
   "cell_type": "markdown",
   "metadata": {},
   "source": [
    "Grasshopper を実行します。\n"
   ]
  },
  {
   "cell_type": "code",
   "execution_count": 13,
   "metadata": {},
   "outputs": [],
   "source": [
    "output = gh.EvaluateDefinition(\n",
    "    'C:/Users/hiroa/Desktop/DigitalFUTURES/Day3/Grasshopper/Add.gh', input_trees)\n"
   ]
  },
  {
   "cell_type": "markdown",
   "metadata": {},
   "source": [
    "結果を表示します。\n"
   ]
  },
  {
   "cell_type": "code",
   "execution_count": 14,
   "metadata": {},
   "outputs": [
    {
     "name": "stdout",
     "output_type": "stream",
     "text": [
      "RH_OUT:result\n",
      "{0}\n",
      "2.0\n"
     ]
    }
   ],
   "source": [
    "errors = output['errors']\n",
    "if errors:\n",
    "    print('ERRORS')\n",
    "    for error in errors:\n",
    "        print(error)\n",
    "warnings = output['warnings']\n",
    "if warnings:\n",
    "    print('WARNINGS')\n",
    "    for warning in warnings:\n",
    "        print(warning)\n",
    "\n",
    "values = output['values']\n",
    "for value in values:\n",
    "    name = value['ParamName']\n",
    "    inner_tree = value['InnerTree']\n",
    "    print(name)\n",
    "    for path in inner_tree:\n",
    "        print(path)\n",
    "        values_at_path = inner_tree[path]\n",
    "        for value_at_path in values_at_path:\n",
    "            data = value_at_path['data']\n",
    "            if isinstance(data, str) and 'archive3dm' in data:\n",
    "                obj = rhino3dm.CommonObject.Decode(json.loads(data))\n",
    "                print(obj)\n",
    "            else:\n",
    "                print(data)\n"
   ]
  },
  {
   "cell_type": "markdown",
   "metadata": {},
   "source": [
    "こういった形で、Grasshopper に入力したい値を設定し、実行して結果を表示することができます。"
   ]
  }
 ],
 "metadata": {
  "kernelspec": {
   "display_name": "Python 3.9.13 ('venv': venv)",
   "language": "python",
   "name": "python3"
  },
  "language_info": {
   "codemirror_mode": {
    "name": "ipython",
    "version": 3
   },
   "file_extension": ".py",
   "mimetype": "text/x-python",
   "name": "python",
   "nbconvert_exporter": "python",
   "pygments_lexer": "ipython3",
   "version": "3.9.13"
  },
  "orig_nbformat": 4,
  "vscode": {
   "interpreter": {
    "hash": "7548e00b83e402ca96781c1de0f09fedebb21f00d07e3d61a229255440cbc19f"
   }
  }
 },
 "nbformat": 4,
 "nbformat_minor": 2
}
